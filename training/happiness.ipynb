{
 "cells": [
  {
   "cell_type": "code",
   "execution_count": 43,
   "metadata": {},
   "outputs": [],
   "source": [
    "import pandas as pd\n",
    "import numpy as np"
   ]
  },
  {
   "cell_type": "code",
   "execution_count": 44,
   "metadata": {},
   "outputs": [
    {
     "data": {
      "text/plain": [
       "count      8000.00\n",
       "mean      33307.34\n",
       "std      232985.31\n",
       "min          -3.00\n",
       "25%        1695.00\n",
       "50%       15000.00\n",
       "75%       36000.00\n",
       "max     9999990.00\n",
       "Name: income, dtype: float64"
      ]
     },
     "execution_count": 44,
     "metadata": {},
     "output_type": "execute_result"
    }
   ],
   "source": [
    "data = pd.read_csv(\"../data/happinees.csv\")\n",
    "\n",
    "# pd.crosstab(data[\"happiness\"], data[\"class\"], margins=True)\n",
    "data[\"income\"].describe()"
   ]
  },
  {
   "cell_type": "code",
   "execution_count": 45,
   "metadata": {},
   "outputs": [
    {
     "name": "stdout",
     "output_type": "stream",
     "text": [
      "<class 'pandas.core.frame.DataFrame'>\n",
      "RangeIndex: 8000 entries, 0 to 7999\n",
      "Data columns (total 41 columns):\n",
      " #   Column           Non-Null Count  Dtype  \n",
      "---  ------           --------------  -----  \n",
      " 0   id               8000 non-null   int64  \n",
      " 1   happiness        8000 non-null   int64  \n",
      " 2   survey_type      8000 non-null   int64  \n",
      " 3   province         8000 non-null   int64  \n",
      " 4   city             8000 non-null   int64  \n",
      " 5   county           8000 non-null   int64  \n",
      " 6   gender           8000 non-null   int64  \n",
      " 7   birth            8000 non-null   int64  \n",
      " 8   nationality      8000 non-null   int64  \n",
      " 9   religion         8000 non-null   int64  \n",
      " 10  religion_freq    8000 non-null   int64  \n",
      " 11  edu              8000 non-null   int64  \n",
      " 12  income           8000 non-null   int64  \n",
      " 13  political        8000 non-null   int64  \n",
      " 14  floor_area       8000 non-null   float64\n",
      " 15  height_cm        8000 non-null   int64  \n",
      " 16  weight_jin       8000 non-null   int64  \n",
      " 17  health           8000 non-null   int64  \n",
      " 18  health_problem   8000 non-null   int64  \n",
      " 19  depression       8000 non-null   int64  \n",
      " 20  hukou            8000 non-null   int64  \n",
      " 21  socialize        8000 non-null   int64  \n",
      " 22  relax            8000 non-null   int64  \n",
      " 23  learn            8000 non-null   int64  \n",
      " 24  equity           8000 non-null   int64  \n",
      " 25  class            8000 non-null   int64  \n",
      " 26  work_exper       8000 non-null   int64  \n",
      " 27  work_status      2951 non-null   float64\n",
      " 28  work_yr          2951 non-null   float64\n",
      " 29  work_type        2951 non-null   float64\n",
      " 30  work_manage      2951 non-null   float64\n",
      " 31  family_income    7999 non-null   float64\n",
      " 32  family_m         8000 non-null   int64  \n",
      " 33  family_status    8000 non-null   int64  \n",
      " 34  house            8000 non-null   int64  \n",
      " 35  car              8000 non-null   int64  \n",
      " 36  marital          8000 non-null   int64  \n",
      " 37  status_peer      8000 non-null   int64  \n",
      " 38  status_3_before  8000 non-null   int64  \n",
      " 39  view             8000 non-null   int64  \n",
      " 40  inc_ability      8000 non-null   int64  \n",
      "dtypes: float64(6), int64(35)\n",
      "memory usage: 2.5 MB\n"
     ]
    },
    {
     "data": {
      "text/plain": [
       "count   8000.00\n",
       "mean      -0.00\n",
       "std        1.00\n",
       "min       -0.14\n",
       "25%       -0.14\n",
       "50%       -0.08\n",
       "75%        0.01\n",
       "max       42.78\n",
       "Name: income, dtype: float64"
      ]
     },
     "execution_count": 45,
     "metadata": {},
     "output_type": "execute_result"
    }
   ],
   "source": [
    "data = data.drop(['survey_time'], axis=1)\n",
    "\n",
    "data.info()\n",
    "\n",
    "# use scaler to scale family income\n",
    "from sklearn.preprocessing import StandardScaler\n",
    "\n",
    "scaler = StandardScaler()\n",
    "\n",
    "data['family_income'] = scaler.fit_transform(data['family_income'].values.reshape(-1, 1))\n",
    "data['income'] = scaler.fit_transform(data['income'].values.reshape(-1, 1))\n",
    "data[\"income\"].describe()"
   ]
  },
  {
   "cell_type": "code",
   "execution_count": 47,
   "metadata": {},
   "outputs": [
    {
     "ename": "ImportError",
     "evalue": "cannot import name 'LazyRegression' from 'lazypredict.Supervised' (c:\\Users\\Dustella\\AppData\\Local\\Programs\\Python\\Python312\\Lib\\site-packages\\lazypredict\\Supervised.py)",
     "output_type": "error",
     "traceback": [
      "\u001b[1;31m---------------------------------------------------------------------------\u001b[0m",
      "\u001b[1;31mImportError\u001b[0m                               Traceback (most recent call last)",
      "Cell \u001b[1;32mIn[47], line 1\u001b[0m\n\u001b[1;32m----> 1\u001b[0m \u001b[38;5;28;01mfrom\u001b[39;00m \u001b[38;5;21;01mlazypredict\u001b[39;00m\u001b[38;5;21;01m.\u001b[39;00m\u001b[38;5;21;01mSupervised\u001b[39;00m \u001b[38;5;28;01mimport\u001b[39;00m LazyRegression\n\u001b[0;32m      2\u001b[0m \u001b[38;5;28;01mfrom\u001b[39;00m \u001b[38;5;21;01msklearn\u001b[39;00m\u001b[38;5;21;01m.\u001b[39;00m\u001b[38;5;21;01mmodel_selection\u001b[39;00m \u001b[38;5;28;01mimport\u001b[39;00m train_test_split\n\u001b[0;32m      3\u001b[0m \u001b[38;5;28;01mfrom\u001b[39;00m \u001b[38;5;21;01msklearn\u001b[39;00m\u001b[38;5;21;01m.\u001b[39;00m\u001b[38;5;21;01mmetrics\u001b[39;00m \u001b[38;5;28;01mimport\u001b[39;00m accuracy_score\n",
      "\u001b[1;31mImportError\u001b[0m: cannot import name 'LazyRegression' from 'lazypredict.Supervised' (c:\\Users\\Dustella\\AppData\\Local\\Programs\\Python\\Python312\\Lib\\site-packages\\lazypredict\\Supervised.py)"
     ]
    }
   ],
   "source": [
    "from lazypredict.Supervised import LazyRegressor\n",
    "from sklearn.model_selection import train_test_split\n",
    "from sklearn.metrics import accuracy_score\n",
    "\n",
    "data = data.dropna()\n",
    "\n",
    "X = data.drop(['happiness'], axis=1)\n",
    "y = data['happiness']\n",
    "\n",
    "X_train, X_test, y_train, y_test = train_test_split(X, y, test_size=0.2)\n",
    "\n",
    "model = LazyRegressor()\n",
    "\n",
    "result, pred = model.fit(X_train, X_test, y_train, y_test)\n",
    "\n",
    "result"
   ]
  }
 ],
 "metadata": {
  "kernelspec": {
   "display_name": "Python 3",
   "language": "python",
   "name": "python3"
  },
  "language_info": {
   "codemirror_mode": {
    "name": "ipython",
    "version": 3
   },
   "file_extension": ".py",
   "mimetype": "text/x-python",
   "name": "python",
   "nbconvert_exporter": "python",
   "pygments_lexer": "ipython3",
   "version": "3.12.0"
  }
 },
 "nbformat": 4,
 "nbformat_minor": 2
}
