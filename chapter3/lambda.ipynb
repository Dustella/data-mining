{
 "cells": [
  {
   "cell_type": "code",
   "execution_count": 1,
   "metadata": {},
   "outputs": [],
   "source": [
    "data = [\n",
    "    {\n",
    "        \"name\":\"Dustella\",\n",
    "        \"age\": 21,\n",
    "    },\n",
    "    {\n",
    "        \"name\":\"Dustella2\",\n",
    "        \"age\": 20,\n",
    "    },\n",
    "    {\n",
    "        \"name\":\"Dustella3\",\n",
    "        \"age\": 22,\n",
    "    }\n",
    "]\n",
    "\n",
    "ages = [21,20,22]"
   ]
  },
  {
   "cell_type": "code",
   "execution_count": 14,
   "metadata": {},
   "outputs": [
    {
     "data": {
      "text/plain": [
       "[{'name': 'Dustella2', 'age': 20},\n",
       " {'name': 'Dustella', 'age': 21},\n",
       " {'name': 'Dustella3', 'age': 22}]"
      ]
     },
     "execution_count": 14,
     "metadata": {},
     "output_type": "execute_result"
    }
   ],
   "source": [
    "\n",
    "sorted(data, key=lambda x: x['age'])\n",
    "\n",
    "# lambda\n"
   ]
  },
  {
   "cell_type": "code",
   "execution_count": 17,
   "metadata": {},
   "outputs": [
    {
     "data": {
      "text/plain": [
       "0    21\n",
       "1    20\n",
       "2    22\n",
       "Name: age, dtype: int64"
      ]
     },
     "execution_count": 17,
     "metadata": {},
     "output_type": "execute_result"
    }
   ],
   "source": [
    "import pandas as pd\n",
    "\n",
    "d = pd.DataFrame(data)\n",
    "d[\"age\"].apply(lambda x: x+1)"
   ]
  }
 ],
 "metadata": {
  "kernelspec": {
   "display_name": "Python 3",
   "language": "python",
   "name": "python3"
  },
  "language_info": {
   "codemirror_mode": {
    "name": "ipython",
    "version": 3
   },
   "file_extension": ".py",
   "mimetype": "text/x-python",
   "name": "python",
   "nbconvert_exporter": "python",
   "pygments_lexer": "ipython3",
   "version": "3.12.0"
  }
 },
 "nbformat": 4,
 "nbformat_minor": 2
}
